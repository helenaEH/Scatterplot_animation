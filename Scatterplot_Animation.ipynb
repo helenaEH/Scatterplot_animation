{
 "cells": [
  {
   "cell_type": "markdown",
   "metadata": {},
   "source": [
    "# Animated scatterplot demonstrating the impact of lower fertility on improved life expectancy"
   ]
  },
  {
   "cell_type": "markdown",
   "metadata": {},
   "source": [
    "### Import libraries and datafarames"
   ]
  },
  {
   "cell_type": "code",
   "execution_count": 1,
   "metadata": {},
   "outputs": [],
   "source": [
    "import pandas as pd\n",
    "import imageio\n",
    "import matplotlib.pyplot as plt\n",
    "import warnings\n",
    "\n",
    "# turn off plotting inline\n",
    "plt.ioff()\n",
    "# turn off RuntimeWarning \n",
    "warnings.simplefilter(\"ignore\", category=RuntimeWarning)\n",
    "\n",
    "fert = pd.read_csv('gapminder_total_fertility.csv', index_col=0)\n",
    "life = pd.read_excel('gapminder_lifeexpectancy.xlsx', index_col=0)\n",
    "pop = pd.read_excel('gapminder_population.xlsx', index_col=0)"
   ]
  },
  {
   "cell_type": "markdown",
   "metadata": {},
   "source": [
    "### Function to create the gif"
   ]
  },
  {
   "cell_type": "code",
   "execution_count": 3,
   "metadata": {},
   "outputs": [],
   "source": [
    "def create_gif():\n",
    "    \"\"\" Create animation - combines dataframes, creates individual images, combines images \"\"\"\n",
    "    # Data wrangling - combine dataframes, convert back to wide format\n",
    "    fert.set_axis(axis=1, labels=[int(x) for x in fert.columns], inplace=True)\n",
    "    df_cleaned = pd.DataFrame(data={'fertility': fert.stack(), 'lifeexp': life.stack(), 'popul': pop.stack()})\n",
    "    series = df_cleaned.stack()\n",
    "\n",
    "    years_to_plot = list(range(1960,2016))\n",
    "    for year in years_to_plot:\n",
    "        # Save scatterplots throughout 1960 to 2015 \n",
    "        df = series.unstack(1)\n",
    "        df = df[year]\n",
    "        df = df.unstack(1)\n",
    "        cmap = plt.get_cmap('tab20',  lut=len(df['fertility'])).colors\n",
    "        df.plot.scatter('fertility','lifeexp', s=df['popul']/20000, c=cmap, figsize=[20,10])\n",
    "        plt.title(f'Year: {year}')\n",
    "        plt.axis((0,10,0,100))\n",
    "        plt.savefig(f'scatterplot_images\\\\lifeexp_{year}.png')\n",
    "        plt.figure()\n",
    "    \n",
    "    images = []\n",
    "    for year in years_to_plot:\n",
    "        # Create a gif from the images using the imageio library \n",
    "        filename = f'scatterplot_images\\\\lifeexp_{year}.png'\n",
    "        image = imageio.imread(filename)\n",
    "        images.append(image)\n",
    "    \n",
    "    return imageio.mimsave('Lifeexp_animation.gif', images, fps=15)"
   ]
  },
  {
   "cell_type": "code",
   "execution_count": 6,
   "metadata": {},
   "outputs": [],
   "source": [
    "create_gif()"
   ]
  },
  {
   "cell_type": "markdown",
   "metadata": {},
   "source": [
    "![](Lifeexp_animation.gif)"
   ]
  },
  {
   "cell_type": "code",
   "execution_count": null,
   "metadata": {},
   "outputs": [],
   "source": []
  }
 ],
 "metadata": {
  "kernelspec": {
   "display_name": "Python 3",
   "language": "python",
   "name": "python3"
  },
  "language_info": {
   "codemirror_mode": {
    "name": "ipython",
    "version": 3
   },
   "file_extension": ".py",
   "mimetype": "text/x-python",
   "name": "python",
   "nbconvert_exporter": "python",
   "pygments_lexer": "ipython3",
   "version": "3.7.3"
  }
 },
 "nbformat": 4,
 "nbformat_minor": 2
}
